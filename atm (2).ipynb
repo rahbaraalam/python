{
 "cells": [
  {
   "cell_type": "code",
   "execution_count": 2,
   "metadata": {},
   "outputs": [],
   "source": [
    "class Atm:\n",
    "    def __init__(self):\n",
    "        self.pin=\"\"\n",
    "        self.balance=0\n",
    "\n",
    "        # self.menu()\n",
    "\n",
    "    def menu(self):  \n",
    "        choice = input(\"\"\"\n",
    "            what whould you like to procced?\n",
    "            1 for create pin.\n",
    "            2 for deposite.\n",
    "            3 for widrawal.\n",
    "            4 for check balance.\n",
    "            5 for exit.                                                       \n",
    "\"\"\")  \n",
    "        if choice == \"1\":\n",
    "            self.create_pin(self)\n",
    "        elif choice ==\"2\":    \n",
    "            self.deposite(self)\n",
    "        elif choice==\"3\":    \n",
    "            self.widrawal(self)\n",
    "    \n",
    "    def create_pin(self):   \n",
    "        self.pin=input(\"create your pin\")\n",
    "        print(\"pin set successfully\") \n",
    "\n",
    "    def deposite(self):  \n",
    "        amount = int(input(\"how much you want to deposit.\"))\n",
    "        self.balance=self.balance+amount\n",
    "        print(\"your Bal: \",self.balance)\n",
    "\n",
    "    def widrawal(self):  \n",
    "        temp = input(\"enter your pin\")\n",
    "        if temp == self.pin:\n",
    "            wid_amount=int(input(\"how much you want to widrawal\"))\n",
    "            if self.balance>0 and self.balance>wid_amount:\n",
    "                print(\"widrawal amount: \",wid_amount)\n",
    "                self.balance=self.balance-wid_amount\n",
    "                print(\"your bal: \",self.balance)\n",
    "            else:\n",
    "                print(\"not sufficient fund\")\n",
    "        else:\n",
    "            print(\"wrong pin\")           \n",
    "\n"
   ]
  },
  {
   "cell_type": "code",
   "execution_count": 3,
   "metadata": {},
   "outputs": [
    {
     "name": "stdout",
     "output_type": "stream",
     "text": [
      "pin set successfully\n",
      "your Bal:  90000\n",
      "not sufficient fund\n"
     ]
    }
   ],
   "source": [
    "sbi = Atm()\n",
    "sbi.create_pin()\n",
    "sbi.deposite()\n",
    "sbi.widrawal()\n",
    "\n"
   ]
  }
 ],
 "metadata": {
  "kernelspec": {
   "display_name": "Python 3",
   "language": "python",
   "name": "python3"
  },
  "language_info": {
   "codemirror_mode": {
    "name": "ipython",
    "version": 3
   },
   "file_extension": ".py",
   "mimetype": "text/x-python",
   "name": "python",
   "nbconvert_exporter": "python",
   "pygments_lexer": "ipython3",
   "version": "3.12.0"
  }
 },
 "nbformat": 4,
 "nbformat_minor": 2
}
